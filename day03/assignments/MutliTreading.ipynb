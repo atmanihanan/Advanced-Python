{
 "cells": [
  {
   "cell_type": "markdown",
   "id": "1d57264a",
   "metadata": {},
   "source": [
    "## 1. Simple Thread Creation\n",
    "\n",
    "Create a simple program that uses threading to print numbers from 1 to 5 in two separate threads."
   ]
  },
  {
   "cell_type": "code",
   "execution_count": 1,
   "id": "0fb3360f",
   "metadata": {},
   "outputs": [
    {
     "name": "stdout",
     "output_type": "stream",
     "text": [
      "Thread Thread1: 1\n",
      "Thread Thread1: 2\n",
      "Thread Thread1: 3\n",
      "Thread Thread1: 4\n",
      "Thread Thread1: 5\n",
      "Thread Thread2: 1\n",
      "Thread Thread2: 2\n",
      "Thread Thread2: 3\n",
      "Thread Thread2: 4\n",
      "Thread Thread2: 5\n"
     ]
    }
   ],
   "source": [
    "import threading\n",
    "\n",
    "def print_number_triding():\n",
    "    for i in range(1, 6):\n",
    "        print(f\"Thread {threading.current_thread().name}: {i}\")\n",
    "\n",
    "\n",
    "thread1 = threading.Thread(target=print_number_triding, name='Thread1')\n",
    "thread2 = threading.Thread(target=print_number_triding, name='Thread2')\n",
    "\n",
    "\n",
    "\n",
    "thread1.start()\n",
    "thread2.start()\n",
    "\n",
    "\n",
    "thread1.join()\n",
    "thread2.join()\n",
    "\n",
    "\n"
   ]
  },
  {
   "cell_type": "markdown",
   "id": "a8d8ab14",
   "metadata": {},
   "source": [
    "## 2. Thread Synchronization\n",
    "\n",
    "Modify the program from Exercise 1 to use locks to synchronize the two threads and ensure that they print numbers alternately."
   ]
  },
  {
   "cell_type": "code",
   "execution_count": 8,
   "id": "af74ac9c",
   "metadata": {},
   "outputs": [
    {
     "name": "stdout",
     "output_type": "stream",
     "text": [
      "Thread Thread1: 1\n",
      "Thread Thread1: 2\n",
      "Thread Thread1: 3\n",
      "Thread Thread1: 4\n",
      "Thread Thread1: 5\n",
      "Thread Thread2: 1\n",
      "Thread Thread2: 2\n",
      "Thread Thread2: 3\n",
      "Thread Thread2: 4\n",
      "Thread Thread2: 5\n"
     ]
    },
    {
     "data": {
      "text/plain": [
       "'\\n\\nlock = threading.Lock()\\n\\ndef print_numbers_triding():\\n    with lock:\\n        for i in range(5):\\n            print(f\"Thread {thread_id}: {i}\")\\n            \\n            lock.notify()\\n            \\n            lock.release()\\n            lock.acquire()\\n           \\n\\nthread1 = threading.Thread(target=print_numbers_triding, name=\\'Thread1\\')\\nthread2 = threading.Thread(target=print_numbers_triding, name=\\'Thread2\\')\\n\\n\\nthread1.start()\\nthread2.start()\\n\\n\\nthread1.join()\\nthread2.join()\\n\\n'"
      ]
     },
     "execution_count": 8,
     "metadata": {},
     "output_type": "execute_result"
    }
   ],
   "source": [
    "\n",
    "\n",
    "import threading\n",
    "lock = threading.Lock()\n",
    "def print_number_triding():\n",
    "    with lock :\n",
    "        for i in range(1, 6):\n",
    "            print(f\"Thread {threading.current_thread().name}: {i}\")\n",
    "\n",
    "\n",
    "thread1 = threading.Thread(target=print_number_triding, name='Thread1')\n",
    "thread2 = threading.Thread(target=print_number_triding, name='Thread2')\n",
    "\n",
    "\n",
    "\n",
    "thread1.start()\n",
    "thread2.start()\n",
    "\n",
    "\n",
    "thread1.join()\n",
    "thread2.join()\n",
    "'''\n",
    "\n",
    "lock = threading.Lock()\n",
    "\n",
    "def print_numbers_triding():\n",
    "    with lock:\n",
    "        for i in range(5):\n",
    "            print(f\"Thread {thread_id}: {i}\")\n",
    "            \n",
    "            lock.notify()\n",
    "            \n",
    "            lock.release()\n",
    "            lock.acquire()\n",
    "           \n",
    "\n",
    "thread1 = threading.Thread(target=print_numbers_triding, name='Thread1')\n",
    "thread2 = threading.Thread(target=print_numbers_triding, name='Thread2')\n",
    "\n",
    "\n",
    "thread1.start()\n",
    "thread2.start()\n",
    "\n",
    "\n",
    "thread1.join()\n",
    "thread2.join()\n",
    "\n",
    "'''"
   ]
  },
  {
   "cell_type": "markdown",
   "id": "8d45fee2",
   "metadata": {},
   "source": [
    "## 3. Thread Pooling\n",
    "\n",
    "Use the `concurrent.futures.ThreadPoolExecutor` module to create a thread pool and parallelize a task (e.g., calculating the square of numbers) among multiple threads.\n",
    "\n",
    "```python\n",
    "numbers = [1, 2, 3, 4, 5]\n",
    "```"
   ]
  },
  {
   "cell_type": "code",
   "execution_count": 39,
   "id": "0379e5e9",
   "metadata": {},
   "outputs": [
    {
     "name": "stdout",
     "output_type": "stream",
     "text": [
      "Square of 1: 1\n",
      "Square of 2: 4\n",
      "Square of 3: 9\n",
      "Square of 4: 16\n",
      "Square of 5: 25\n",
      "Main thread exiting\n"
     ]
    }
   ],
   "source": [
    "\n",
    "import concurrent.futures\n",
    "\n",
    "def calculate_square(number):\n",
    "    result = number ** 2\n",
    "    print(f\"Square of {number}: {result}\")\n",
    "    return result\n",
    "\n",
    "numbers = [1, 2, 3, 4, 5]\n",
    "with concurrent.futures.ThreadPoolExecutor(max_workers=2) as executor:\n",
    "    \n",
    "    futures = [executor.submit(calculate_square, num) for num in numbers]\n",
    "\n",
    "    concurrent.futures.wait(futures)\n",
    "    results = [future.result() for future in futures]\n",
    "\n",
    "print(\"Main thread exiting\")\n",
    "\n"
   ]
  },
  {
   "cell_type": "markdown",
   "id": "aacf816a",
   "metadata": {},
   "source": [
    "## 4. Thread with Function Arguments\n",
    "\n",
    "```python\n",
    "\n",
    "import threading\n",
    "import time\n",
    "\n",
    "def print_hello():\n",
    "    for _ in range(5):\n",
    "        print(\"Hello, \", end='')\n",
    "        time.sleep(0.1)\n",
    "\n",
    "def print_world():\n",
    "    for _ in range(5):\n",
    "        print(\"World!\")\n",
    "        time.sleep(0.1)\n",
    "\n",
    "# Create two threads\n",
    "thread1 = threading.Thread(target=print_hello)\n",
    "thread2 = threading.Thread(target=print_world)\n",
    "\n",
    "# Start the threads\n",
    "thread1.start()\n",
    "thread2.start()\n",
    "\n",
    "# Wait for both threads to finish\n",
    "thread1.join()\n",
    "thread2.join()\n",
    "```\n",
    "\n",
    "Modify this program to pass an argument to the threads and print the thread's name along with the message."
   ]
  },
  {
   "cell_type": "code",
   "execution_count": 9,
   "id": "d7fd05ee",
   "metadata": {},
   "outputs": [
    {
     "name": "stdout",
     "output_type": "stream",
     "text": [
      "Hello, World!\n",
      "Hello, World!\n",
      "Hello, World!\n",
      "Hello, World!\n",
      "Hello, World!\n"
     ]
    }
   ],
   "source": [
    "import threading\n",
    "import time\n",
    "\n",
    "def print_hello():\n",
    "    for _ in range(5):\n",
    "        print(\"Hello, \", end='')\n",
    "        time.sleep(0.1)\n",
    "\n",
    "def print_world():\n",
    "    for _ in range(5):\n",
    "        print(\"World!\")\n",
    "        time.sleep(0.1)\n",
    "\n",
    "# Create two threads\n",
    "thread1 = threading.Thread(target=print_hello)\n",
    "thread2 = threading.Thread(target=print_world)\n",
    "\n",
    "# Start the threads\n",
    "thread1.start()\n",
    "thread2.start()\n",
    "\n",
    "# Wait for both threads to finish\n",
    "thread1.join()\n",
    "thread2.join()"
   ]
  },
  {
   "cell_type": "code",
   "execution_count": 10,
   "id": "d2fbff02",
   "metadata": {},
   "outputs": [
    {
     "name": "stdout",
     "output_type": "stream",
     "text": [
      "Hello from Thread-1, World from Thread-2!\n",
      "Hello from Thread-1, World from Thread-2!\n",
      "Hello from Thread-1, World from Thread-2!\n",
      "Hello from Thread-1, World from Thread-2!\n",
      "Hello from Thread-1, World from Thread-2!\n"
     ]
    }
   ],
   "source": [
    "\n",
    "import threading\n",
    "import time\n",
    "\n",
    "def print_hello(thread_name):\n",
    "    for _ in range(5):\n",
    "        print(f\"Hello from {thread_name}, \", end='')\n",
    "        time.sleep(0.1)\n",
    "\n",
    "def print_world(thread_name):\n",
    "    for _ in range(5):\n",
    "        print(f\"World from {thread_name}!\")\n",
    "        time.sleep(0.1)\n",
    "\n",
    "# Create two threads with arguments\n",
    "thread1 = threading.Thread(target=print_hello, args=('Thread-1',))\n",
    "thread2 = threading.Thread(target=print_world, args=('Thread-2',))\n",
    "\n",
    "# Start the threads\n",
    "thread1.start()\n",
    "thread2.start()\n",
    "\n",
    "# Wait for both threads to finish\n",
    "thread1.join()\n",
    "thread2.join()"
   ]
  },
  {
   "cell_type": "code",
   "execution_count": null,
   "id": "07df2c23",
   "metadata": {},
   "outputs": [],
   "source": []
  }
 ],
 "metadata": {
  "kernelspec": {
   "display_name": "Python 3 (ipykernel)",
   "language": "python",
   "name": "python3"
  },
  "language_info": {
   "codemirror_mode": {
    "name": "ipython",
    "version": 3
   },
   "file_extension": ".py",
   "mimetype": "text/x-python",
   "name": "python",
   "nbconvert_exporter": "python",
   "pygments_lexer": "ipython3",
   "version": "3.11.5"
  }
 },
 "nbformat": 4,
 "nbformat_minor": 5
}
