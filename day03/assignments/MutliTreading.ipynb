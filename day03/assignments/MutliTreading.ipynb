{
 "cells": [
  {
   "cell_type": "markdown",
   "id": "1d57264a",
   "metadata": {},
   "source": [
    "## 1. Simple Thread Creation\n",
    "\n",
    "Create a simple program that uses threading to print numbers from 1 to 5 in two separate threads."
   ]
  },
  {
   "cell_type": "code",
   "execution_count": 16,
   "id": "0fb3360f",
   "metadata": {
    "scrolled": true
   },
   "outputs": [
    {
     "name": "stdout",
     "output_type": "stream",
     "text": [
      "Thread Thread1: 1\n",
      "Thread Thread2: 1\n",
      "Thread Thread1: 2\n",
      "Thread Thread2: 2\n",
      "Thread Thread1: 3\n",
      "Thread Thread2: 3\n",
      "Thread Thread1: 4\n",
      "Thread Thread2: 4\n",
      "Thread Thread1: 5\n",
      "Thread Thread2: 5\n"
     ]
    }
   ],
   "source": [
    "import threading\n",
    "from time import sleep\n",
    "\n",
    "def print_number_triding():\n",
    "    for i in range(1, 6):\n",
    "        sleep(0.4)\n",
    "        print(f\"Thread {threading.current_thread().name}: {i}\")\n",
    "\n",
    "\n",
    "thread1 = threading.Thread(target=print_number_triding, name='Thread1')\n",
    "thread2 = threading.Thread(target=print_number_triding, name='Thread2')\n",
    "\n",
    "\n",
    "\n",
    "thread1.start()\n",
    "thread2.start()\n",
    "\n",
    "\n",
    "\n",
    "\n",
    "\n",
    "\n",
    "T1.join()\n",
    "T2.join()\n",
    "\n"
   ]
  },
  {
   "cell_type": "markdown",
   "id": "a8d8ab14",
   "metadata": {},
   "source": [
    "## 2. Thread Synchronization\n",
    "\n",
    "Modify the program from Exercise 1 to use locks to synchronize the two threads and ensure that they print numbers alternately"
   ]
  },
  {
   "cell_type": "code",
   "execution_count": 25,
   "id": "af74ac9c",
   "metadata": {},
   "outputs": [
    {
     "name": "stdout",
     "output_type": "stream",
     "text": [
      "Thread Thread-27: 1\n",
      "Thread Thread-28: 2\n",
      "Thread Thread-27: 3\n",
      "Thread Thread-28: 4\n",
      "Thread Thread-27: 5\n"
     ]
    }
   ],
   "source": [
    "\n",
    "\n",
    "import threading \n",
    "my_lock= threading.RLock()\n",
    "\n",
    "class Ther(threading.Thread):\n",
    "    i = 0\n",
    "    \n",
    "    def __init__(self):\n",
    "        threading.Thread.__init__(self)\n",
    "        \n",
    "    def run(self):\n",
    "        while Ther.i<5:\n",
    "            with my_lock:\n",
    "                Ther.i += 1\n",
    "                print(f\"Thread {threading.current_thread().name}: {Ther.i}\")\n",
    "            sleep(3)\n",
    "                \n",
    "            #for i in range(1, 6):\n",
    "            #    sleep(0.5)\n",
    "            #    print(f\"Thread {threading.current_thread().name}: {i}\")\n",
    "        \n",
    "T1 = Ther()\n",
    "T2 = Ther()\n",
    "\n",
    "T1.start()\n",
    "T2.start()\n",
    "\n",
    "T1.join()\n",
    "T2.join()"
   ]
  },
  {
   "cell_type": "markdown",
   "id": "8d45fee2",
   "metadata": {},
   "source": [
    "## 3. Thread Pooling\n",
    "\n",
    "Use the `concurrent.futures.ThreadPoolExecutor` module to create a thread pool and parallelize a task (e.g., calculating the square of numbers) among multiple threads.\n",
    "\n",
    "```python\n",
    "numbers = [1, 2, 3, 4, 5]\n",
    "```"
   ]
  },
  {
   "cell_type": "code",
   "execution_count": 27,
   "id": "0379e5e9",
   "metadata": {},
   "outputs": [
    {
     "name": "stdout",
     "output_type": "stream",
     "text": [
      "Square of 1: 1\n",
      "Square of 2: 4\n",
      "Square of 3: 9\n",
      "Square of 4: 16\n",
      "Square of 5: 25\n",
      "time :15.001776968998456\n",
      "Square of 1: 1\n",
      "Square of 2: 4\n",
      "Square of 3: 9\n",
      "Square of 4: 16\n",
      "Square of 5: 25\n",
      "time :6.002363699997659\n"
     ]
    }
   ],
   "source": [
    "\n",
    "import concurrent.futures\n",
    "from time import perf_counter\n",
    "\n",
    "numbers = [1, 2, 3, 4, 5]\n",
    "\n",
    "def calculate_square(number):\n",
    "    result = number ** 2\n",
    "    sleep(3)\n",
    "    print(f\"Square of {number}: {result}\")\n",
    "    return result\n",
    "\n",
    "# approche classique\n",
    "start = perf_counter()\n",
    "for i in numbers :\n",
    "    calculate_square(i)     \n",
    "print(f'time :{perf_counter()-start}')\n",
    "\n",
    "# approche parallelisée\n",
    "t = perf_counter()\n",
    "with concurrent.futures.ThreadPoolExecutor(max_workers=3) as executor:\n",
    "    executor.map(calculate_square, numbers)\n",
    "    '''\n",
    "    futures = [executor.submit(calculate_square, num) for num in numbers]\n",
    "    concurrent.futures.wait(futures)\n",
    "    results = [future.result() for future in futures]\n",
    "    '''\n",
    "print(f'time :{perf_counter()-t}')"
   ]
  },
  {
   "cell_type": "markdown",
   "id": "aacf816a",
   "metadata": {},
   "source": [
    "## 4. Thread with Function Arguments\n",
    "\n",
    "```python\n",
    "\n",
    "import threading\n",
    "import time\n",
    "\n",
    "def print_hello():\n",
    "    for _ in range(5):\n",
    "        print(\"Hello, \", end='')\n",
    "        time.sleep(0.1)\n",
    "\n",
    "def print_world():\n",
    "    for _ in range(5):\n",
    "        print(\"World!\")\n",
    "        time.sleep(0.1)\n",
    "\n",
    "# Create two threads\n",
    "thread1 = threading.Thread(target=print_hello)\n",
    "thread2 = threading.Thread(target=print_world)\n",
    "\n",
    "# Start the threads\n",
    "thread1.start()\n",
    "thread2.start()\n",
    "\n",
    "# Wait for both threads to finish\n",
    "thread1.join()\n",
    "thread2.join()\n",
    "```\n",
    "\n",
    "Modify this program to pass an argument to the threads and print the thread's name along with the message."
   ]
  },
  {
   "cell_type": "code",
   "execution_count": 29,
   "id": "d7fd05ee",
   "metadata": {},
   "outputs": [
    {
     "name": "stdout",
     "output_type": "stream",
     "text": [
      "Hello, T1 World!, T2\n",
      "Hello, T1 World!, T2\n",
      "Hello, T1 World!, T2\n",
      "Hello, T1 World!, T2\n",
      "Hello, T1 World!, T2\n"
     ]
    }
   ],
   "source": [
    "import threading\n",
    "import time\n",
    "\n",
    "def print_hello():\n",
    "    for _ in range(5):\n",
    "        print(f\"Hello, {threading.current_thread().name} \", end='')\n",
    "        time.sleep(0.1)\n",
    "\n",
    "def print_world():\n",
    "    for _ in range(5):\n",
    "        print(f\"World!, {threading.current_thread().name}\")\n",
    "        time.sleep(0.1)\n",
    "\n",
    "# Create two threads\n",
    "thread1 = threading.Thread(target=print_hello, name=\"T1\")\n",
    "thread2 = threading.Thread(target=print_world, name=\"T2\")\n",
    "\n",
    "# Start the threads\n",
    "thread1.start()\n",
    "thread2.start()\n",
    "\n",
    "# Wait for both threads to finish\n",
    "thread1.join()\n",
    "thread2.join()"
   ]
  },
  {
   "cell_type": "code",
   "execution_count": 10,
   "id": "d2fbff02",
   "metadata": {},
   "outputs": [
    {
     "name": "stdout",
     "output_type": "stream",
     "text": [
      "Hello from Thread-1, World from Thread-2!\n",
      "Hello from Thread-1, World from Thread-2!\n",
      "Hello from Thread-1, World from Thread-2!\n",
      "Hello from Thread-1, World from Thread-2!\n",
      "Hello from Thread-1, World from Thread-2!\n"
     ]
    }
   ],
   "source": [
    "\n",
    "import threading\n",
    "import time\n",
    "\n",
    "def print_hello(thread_name):\n",
    "    for _ in range(5):\n",
    "        print(f\"Hello from {thread_name}, \", end='')\n",
    "        time.sleep(0.1)\n",
    "\n",
    "def print_world(thread_name):\n",
    "    for _ in range(5):\n",
    "        print(f\"World from {thread_name}!\")\n",
    "        time.sleep(0.1)\n",
    "\n",
    "# Create two threads with arguments\n",
    "thread1 = threading.Thread(target=print_hello, args=('Thread-1',))\n",
    "thread2 = threading.Thread(target=print_world, args=('Thread-2',))\n",
    "\n",
    "# Start the threads\n",
    "thread1.start()\n",
    "thread2.start()\n",
    "\n",
    "# Wait for both threads to finish\n",
    "thread1.join()\n",
    "thread2.join()"
   ]
  },
  {
   "cell_type": "code",
   "execution_count": null,
   "id": "07df2c23",
   "metadata": {},
   "outputs": [],
   "source": []
  }
 ],
 "metadata": {
  "kernelspec": {
   "display_name": "Python 3 (ipykernel)",
   "language": "python",
   "name": "python3"
  },
  "language_info": {
   "codemirror_mode": {
    "name": "ipython",
    "version": 3
   },
   "file_extension": ".py",
   "mimetype": "text/x-python",
   "name": "python",
   "nbconvert_exporter": "python",
   "pygments_lexer": "ipython3",
   "version": "3.11.5"
  }
 },
 "nbformat": 4,
 "nbformat_minor": 5
}
