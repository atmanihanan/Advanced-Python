{
 "cells": [
  {
   "cell_type": "code",
<<<<<<< HEAD
   "execution_count": 3,
   "id": "4f2054b3",
=======
   "execution_count": 2,
   "id": "4e3f4418",
>>>>>>> f0adb78ab2005b1ceafddfbc0f761a7f02770df8
   "metadata": {},
   "outputs": [
    {
     "name": "stdout",
     "output_type": "stream",
     "text": [
      "500\n",
      "3000\n"
     ]
    }
   ],
   "source": [
    "# How to create a class:\n",
    "class Item:\n",
    "    def calculate_total_price(self, x, y):\n",
    "        return x * y\n",
    "\n",
    "# How to create an instance of a class\n",
    "item1 = Item()\n",
    "\n",
    "# Assign attributes:\n",
    "item1.name = \"Phone\"\n",
    "item1.price = 100\n",
    "item1.quantity = 5\n",
    "\n",
    "# Calling methods from instances of a class:\n",
    "print(item1.calculate_total_price(item1.price, item1.quantity))\n",
    "\n",
    "# How to create an instance of a class (We could create as much as instances we'd like to)\n",
    "item2 = Item()\n",
    "\n",
    "# Assign attributes\n",
    "item2.name = \"Laptop\"\n",
    "item2.price = 1000\n",
    "item2.quantity = 3\n",
    "\n",
    "# Calling methods from instances of a class: \n",
    "print(item2.calculate_total_price(item2.price, item2.quantity))"
   ]
  },
  {
   "cell_type": "code",
<<<<<<< HEAD
   "execution_count": 7,
   "id": "2c575022",
=======
   "execution_count": 3,
   "id": "0859acc1",
>>>>>>> f0adb78ab2005b1ceafddfbc0f761a7f02770df8
   "metadata": {},
   "outputs": [
    {
     "name": "stdout",
     "output_type": "stream",
     "text": [
<<<<<<< HEAD
      "21\n"
=======
      "<class 'int'>\n"
>>>>>>> f0adb78ab2005b1ceafddfbc0f761a7f02770df8
     ]
    }
   ],
   "source": [
<<<<<<< HEAD
    "class persone :\n",
    "    def age(self, years_bored) :\n",
    "        return(2023-years_bored)\n",
    "hanan = persone()\n",
    "hanan.nom = \"hanan\"\n",
    "hanan.years_bored = 2002\n",
    "print(hanan.age(hanan.years_bored))\n",
    "\n"
=======
    "a = 10\n",
    "print(type(a))"
>>>>>>> f0adb78ab2005b1ceafddfbc0f761a7f02770df8
   ]
  },
  {
   "cell_type": "code",
<<<<<<< HEAD
   "execution_count": 8,
   "id": "423afc65",
   "metadata": {},
   "outputs": [
    {
     "data": {
      "text/plain": [
       "'hanan'"
      ]
     },
     "execution_count": 8,
     "metadata": {},
     "output_type": "execute_result"
    }
   ],
   "source": [
    "hanan.nom\n"
=======
   "execution_count": 12,
   "id": "6c93f923",
   "metadata": {},
   "outputs": [
    {
     "name": "stdout",
     "output_type": "stream",
     "text": [
      "<class 'int'>\n"
     ]
    }
   ],
   "source": [
    "a.__add__(2)\n",
    "a + 2 \n",
    "\n",
    "print(type(12))"
>>>>>>> f0adb78ab2005b1ceafddfbc0f761a7f02770df8
   ]
  },
  {
   "cell_type": "code",
<<<<<<< HEAD
   "execution_count": null,
   "id": "0cf56ec5",
   "metadata": {},
   "outputs": [],
   "source": []
=======
   "execution_count": 16,
   "id": "db61ed15",
   "metadata": {},
   "outputs": [
    {
     "name": "stdout",
     "output_type": "stream",
     "text": [
      "<class 'float'>\n",
      "10.0\n"
     ]
    }
   ],
   "source": [
    "a = 10.\n",
    "\n",
    "print(type(a))\n",
    "\n",
    "print(a)"
   ]
>>>>>>> f0adb78ab2005b1ceafddfbc0f761a7f02770df8
  }
 ],
 "metadata": {
  "kernelspec": {
   "display_name": "Python 3 (ipykernel)",
   "language": "python",
   "name": "python3"
  },
  "language_info": {
   "codemirror_mode": {
    "name": "ipython",
    "version": 3
   },
   "file_extension": ".py",
   "mimetype": "text/x-python",
   "name": "python",
   "nbconvert_exporter": "python",
   "pygments_lexer": "ipython3",
   "version": "3.11.4"
  }
 },
 "nbformat": 4,
 "nbformat_minor": 5
}
