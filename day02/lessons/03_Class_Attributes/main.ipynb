{
 "cells": [
  {
   "cell_type": "code",
   "execution_count": 1,
   "id": "869fbb1e",
   "metadata": {},
   "outputs": [
    {
     "name": "stdout",
     "output_type": "stream",
     "text": [
      "[Item('Phone', 100, 1), Item('Laptop', 1000, 3), Item('Cable', 10, 5), Item('Mouse', 50, 5), Item('Keyboard', 75, 5)]\n"
     ]
    }
   ],
   "source": [
    "class Item:\n",
    "    pay_rate = 0.8 # The pay rate after 20% discount\n",
    "    all = []\n",
    "    def __init__(self, name: str, price: float, quantity=0):\n",
    "        # Run validations to the received arguments\n",
    "        assert price >= 0, f\"Price {price} is not greater than or equal to zero!\"\n",
    "        assert quantity >= 0, f\"Quantity {quantity} is not greater or equal to zero!\"\n",
    "\n",
    "        # Assign to self object\n",
    "        self.name = name\n",
    "        self.price = price\n",
    "        self.quantity = quantity\n",
    "\n",
    "        # Actions to execute\n",
    "        Item.all.append(self)\n",
    "\n",
    "    def calculate_total_price(self):\n",
    "        return self.price * self.quantity\n",
    "\n",
    "    def apply_discount(self):\n",
    "        self.price = self.price * self.pay_rate\n",
    "\n",
    "    # A magic method for representing the object \n",
    "    def __repr__(self):\n",
    "        return f\"Item('{self.name}', {self.price}, {self.quantity})\"\n",
    "\n",
    "item1 = Item(\"Phone\", 100, 1)\n",
    "item2 = Item(\"Laptop\", 1000, 3)\n",
    "item3 = Item(\"Cable\", 10, 5)\n",
    "item4 = Item(\"Mouse\", 50, 5)\n",
    "item5 = Item(\"Keyboard\", 75, 5)\n",
    "\n",
    "print(Item.all)"
   ]
  },
  {
   "cell_type": "code",
   "execution_count": 12,
   "id": "96303f0c",
   "metadata": {},
   "outputs": [
    {
     "name": "stdout",
     "output_type": "stream",
     "text": [
      "[voiture[<class 'type'>,rongerover,310000,noir]]\n"
     ]
    }
   ],
   "source": [
    "class voiture:\n",
    "    all =[]\n",
    "    taux = 0.5\n",
    "    def __init__(self, tybe = str, nom = str, prix = int, coleur = str):\n",
    "                assert prix > 70000 , \"c'est ne pas le prix d'une voiture\"\n",
    "                self.type = type\n",
    "                self.nom =nom\n",
    "                self.prix = prix\n",
    "                self.coleur = coleur\n",
    "                voiture.all.append(self)   \n",
    "    def prix(self, prix):\n",
    "          return prix*taux\n",
    "    def __repr__(self):\n",
    "        return f\"voiture[{self.type},{self.nom},{self.prix},{self.coleur}]\"  \n",
    "rong= voiture(\"amec\",\"rongerover\",310000, \"noir\"  ) \n",
    "print(voiture.all)\n"
   ]
  },
  {
   "cell_type": "code",
   "execution_count": null,
   "id": "3ebfc19f",
   "metadata": {},
   "outputs": [],
   "source": []
  }
 ],
 "metadata": {
  "kernelspec": {
   "display_name": "Python 3 (ipykernel)",
   "language": "python",
   "name": "python3"
  },
  "language_info": {
   "codemirror_mode": {
    "name": "ipython",
    "version": 3
   },
   "file_extension": ".py",
   "mimetype": "text/x-python",
   "name": "python",
   "nbconvert_exporter": "python",
   "pygments_lexer": "ipython3",
   "version": "3.11.4"
  }
 },
 "nbformat": 4,
 "nbformat_minor": 5
}
